{
 "cells": [
  {
   "cell_type": "code",
   "execution_count": 57,
   "metadata": {},
   "outputs": [],
   "source": [
    "def primeNum(a):\n",
    "    if(isinstance(a, int)):\n",
    "        if(a < 0):\n",
    "            print('Number is Negative')\n",
    "        elif(a == 0):\n",
    "            print('Number is Zero')\n",
    "        elif(a == 1):\n",
    "            print('Number is neither a prime nor composite')\n",
    "        elif(a==2):\n",
    "            print('Number {} is prime'.format(a))\n",
    "        else:\n",
    "            for i in range(2, int(a/2)+1):\n",
    "                #print(i)\n",
    "                if((a%i)==0):\n",
    "                    print('Number {} is not prime'.format(a))\n",
    "                    break\n",
    "            else:\n",
    "                print('Number {} is a prime'.format(a))\n",
    "    else:\n",
    "        print('Please provide integer number')\n",
    "            "
   ]
  },
  {
   "cell_type": "code",
   "execution_count": 61,
   "metadata": {},
   "outputs": [
    {
     "name": "stdout",
     "output_type": "stream",
     "text": [
      "Number 101 is a prime\n"
     ]
    }
   ],
   "source": [
    "primeNum(101)"
   ]
  },
  {
   "cell_type": "code",
   "execution_count": null,
   "metadata": {},
   "outputs": [],
   "source": []
  }
 ],
 "metadata": {
  "kernelspec": {
   "display_name": "Python 3",
   "language": "python",
   "name": "python3"
  },
  "language_info": {
   "codemirror_mode": {
    "name": "ipython",
    "version": 3
   },
   "file_extension": ".py",
   "mimetype": "text/x-python",
   "name": "python",
   "nbconvert_exporter": "python",
   "pygments_lexer": "ipython3",
   "version": "3.7.3"
  }
 },
 "nbformat": 4,
 "nbformat_minor": 2
}
